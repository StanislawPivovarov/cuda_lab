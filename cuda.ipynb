{
  "nbformat": 4,
  "nbformat_minor": 0,
  "metadata": {
    "colab": {
      "provenance": []
    },
    "kernelspec": {
      "name": "python3",
      "display_name": "Python 3"
    },
    "language_info": {
      "name": "python"
    },
    "accelerator": "GPU",
    "gpuClass": "standard"
  },
  "cells": [
    {
      "cell_type": "code",
      "execution_count": 1,
      "metadata": {
        "colab": {
          "base_uri": "https://localhost:8080/"
        },
        "id": "m_OMzwGmX_q4",
        "outputId": "c7c1ea8f-2b2e-4e06-c86a-0ed0807a34c3"
      },
      "outputs": [
        {
          "output_type": "stream",
          "name": "stdout",
          "text": [
            "nvcc: NVIDIA (R) Cuda compiler driver\n",
            "Copyright (c) 2005-2022 NVIDIA Corporation\n",
            "Built on Wed_Sep_21_10:33:58_PDT_2022\n",
            "Cuda compilation tools, release 11.8, V11.8.89\n",
            "Build cuda_11.8.r11.8/compiler.31833905_0\n"
          ]
        }
      ],
      "source": [
        "!nvcc --version"
      ]
    },
    {
      "cell_type": "code",
      "source": [
        "!pip install git+https://github.com/andreinechaev/nvcc4jupyter.git"
      ],
      "metadata": {
        "colab": {
          "base_uri": "https://localhost:8080/"
        },
        "id": "mBdLl2coYV1m",
        "outputId": "832cd602-6658-4433-f8ab-90eb5b9fed56"
      },
      "execution_count": 2,
      "outputs": [
        {
          "output_type": "stream",
          "name": "stdout",
          "text": [
            "Looking in indexes: https://pypi.org/simple, https://us-python.pkg.dev/colab-wheels/public/simple/\n",
            "Collecting git+https://github.com/andreinechaev/nvcc4jupyter.git\n",
            "  Cloning https://github.com/andreinechaev/nvcc4jupyter.git to /tmp/pip-req-build-moc6ygzu\n",
            "  Running command git clone --filter=blob:none --quiet https://github.com/andreinechaev/nvcc4jupyter.git /tmp/pip-req-build-moc6ygzu\n",
            "  Resolved https://github.com/andreinechaev/nvcc4jupyter.git to commit aac710a35f52bb78ab34d2e52517237941399eff\n",
            "  Preparing metadata (setup.py) ... \u001b[?25l\u001b[?25hdone\n",
            "Building wheels for collected packages: NVCCPlugin\n",
            "  Building wheel for NVCCPlugin (setup.py) ... \u001b[?25l\u001b[?25hdone\n",
            "  Created wheel for NVCCPlugin: filename=NVCCPlugin-0.0.2-py3-none-any.whl size=4305 sha256=d06389d43bbcd7f6ff7a53a5c1dcf18f6ea9defaf2d4231a6a7ac2649ae96bbc\n",
            "  Stored in directory: /tmp/pip-ephem-wheel-cache-46apjd_u/wheels/db/c1/1f/a2bb07bbb4a1ce3c43921252aeafaa6205f08637e292496f04\n",
            "Successfully built NVCCPlugin\n",
            "Installing collected packages: NVCCPlugin\n",
            "Successfully installed NVCCPlugin-0.0.2\n"
          ]
        }
      ]
    },
    {
      "cell_type": "code",
      "source": [
        "%load_ext nvcc_plugin"
      ],
      "metadata": {
        "colab": {
          "base_uri": "https://localhost:8080/"
        },
        "id": "EpRCygJ-YYhm",
        "outputId": "72628dad-017f-47cc-f142-d05297399027"
      },
      "execution_count": 3,
      "outputs": [
        {
          "output_type": "stream",
          "name": "stdout",
          "text": [
            "created output directory at /content/src\n",
            "Out bin /content/result.out\n"
          ]
        }
      ]
    },
    {
      "cell_type": "code",
      "source": [
        "%%cu\n",
        "\n",
        "#include <stdio.h>\n",
        "#include <cuda_runtime.h>\n",
        "\n",
        "#define N 5\n",
        "#define BLOCK_SIZE 256\n",
        "\n",
        "__global__ void matrixVectorMultiplication(float* A, float* B, float* C)\n",
        "{\n",
        "    int tid = threadIdx.x;\n",
        "    int bid = blockIdx.x;\n",
        "    int idx = bid * blockDim.x + tid;\n",
        "    for (int i = 0; i < N; i++) {\n",
        "        float sum = 0.0;\n",
        "        sum += A[idx * N + i] * B[i];\n",
        "        C[idx] = sum;\n",
        "    }\n",
        "}\n",
        "\n",
        "int main()\n",
        "{\n",
        "    float *A, *B, *C;\n",
        "    float *dev_A, *dev_B, *dev_C;\n",
        "\n",
        "    // Выделение памяти на хосте\n",
        "    A = (float*)malloc(N * N * sizeof(float));\n",
        "    B = (float*)malloc(N * sizeof(float));\n",
        "    C = (float*)malloc(N * sizeof(float));\n",
        "\n",
        "    // Инициализация матрицы и векторов\n",
        "    for (int i = 0; i < N; i++) {\n",
        "        B[i] = i;\n",
        "        for (int j = 0; j < N; j++) {\n",
        "            A[i * N + j] = i + j;\n",
        "        }\n",
        "    }\n",
        "\n",
        "    // Вывод матрицы и векторов на экран\n",
        "    printf(\"Matrix A:\\n\");\n",
        "    for (int i = 0; i < N; i++) {\n",
        "        for (int j = 0; j < N; j++) {\n",
        "            printf(\"%f \", A[i * N + j]);\n",
        "        }\n",
        "        printf(\"\\n\");\n",
        "    }\n",
        "    printf(\"\\nVector B:\\n\");\n",
        "    for (int i = 0; i < N; i++) {\n",
        "        printf(\"%f \", B[i]);\n",
        "    }\n",
        "    printf(\"\\n\\n\");\n",
        "\n",
        "    // Выделение памяти на устройстве\n",
        "    cudaMalloc(&dev_A, N * N * sizeof(float));\n",
        "    cudaMalloc(&dev_B, N * sizeof(float));\n",
        "    cudaMalloc(&dev_C, N * sizeof(float));\n",
        "\n",
        "    // Копирование данных с хоста на устройство\n",
        "    cudaMemcpy(dev_A, A, N * N * sizeof(float), cudaMemcpyHostToDevice);\n",
        "    cudaMemcpy(dev_B, B, N * sizeof(float), cudaMemcpyHostToDevice);\n",
        "\n",
        "    // Вычисление количества блоков потоков\n",
        "    int numBlocks = (N + BLOCK_SIZE - 1) / BLOCK_SIZE;\n",
        "\n",
        "    // Выполнение ядра CUDA на устройстве\n",
        "    matrixVectorMultiplication<<<numBlocks, BLOCK_SIZE>>>(dev_A, dev_B, dev_C);\n",
        "\n",
        "    // Копирование результата с устройства на хост\n",
        "    cudaMemcpy(C, dev_C, N * sizeof(float), cudaMemcpyDeviceToHost);\n",
        "\n",
        "    // Вывод результата на экран\n",
        "    printf(\"Result C:\\n\");\n",
        "    for (int i = 0; i < N; i++) {\n",
        "        printf(\"%f \", C[i]);\n",
        "    }\n",
        "    printf(\"\\n\");\n",
        "\n",
        "    // Освобождение памяти на хосте и устройстве\n",
        "    free(A);\n",
        "    free(B);\n",
        "    free(C);\n",
        "    cudaFree(dev_A);\n",
        "    cudaFree(dev_B);\n",
        "    cudaFree(dev_C);\n",
        "\n",
        "    return 0;\n",
        "}\n"
      ],
      "metadata": {
        "colab": {
          "base_uri": "https://localhost:8080/"
        },
        "id": "IDDBmX42YaRz",
        "outputId": "ff54399e-c0ac-4a74-b740-b32912d8dcde"
      },
      "execution_count": 8,
      "outputs": [
        {
          "output_type": "stream",
          "name": "stdout",
          "text": [
            "Matrix A:\n",
            "0.000000 1.000000 2.000000 3.000000 4.000000 \n",
            "1.000000 2.000000 3.000000 4.000000 5.000000 \n",
            "2.000000 3.000000 4.000000 5.000000 6.000000 \n",
            "3.000000 4.000000 5.000000 6.000000 7.000000 \n",
            "4.000000 5.000000 6.000000 7.000000 8.000000 \n",
            "\n",
            "Vector B:\n",
            "0.000000 1.000000 2.000000 3.000000 4.000000 \n",
            "\n",
            "Result C:\n",
            "16.000000 20.000000 24.000000 28.000000 32.000000 \n",
            "\n"
          ]
        }
      ]
    }
  ]
}