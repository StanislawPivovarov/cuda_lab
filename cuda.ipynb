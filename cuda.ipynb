{
  "cells": [
    {
      "cell_type": "code",
      "execution_count": 1,
      "metadata": {
        "colab": {
          "base_uri": "https://localhost:8080/"
        },
        "id": "m_OMzwGmX_q4",
        "outputId": "c7c1ea8f-2b2e-4e06-c86a-0ed0807a34c3"
      },
      "outputs": [
        {
          "name": "stdout",
          "output_type": "stream",
          "text": [
            "nvcc: NVIDIA (R) Cuda compiler driver\n",
            "Copyright (c) 2005-2022 NVIDIA Corporation\n",
            "Built on Wed_Sep_21_10:33:58_PDT_2022\n",
            "Cuda compilation tools, release 11.8, V11.8.89\n",
            "Build cuda_11.8.r11.8/compiler.31833905_0\n"
          ]
        }
      ],
      "source": [
        "!nvcc --version"
      ]
    },
    {
      "cell_type": "code",
      "execution_count": 2,
      "metadata": {
        "colab": {
          "base_uri": "https://localhost:8080/"
        },
        "id": "mBdLl2coYV1m",
        "outputId": "832cd602-6658-4433-f8ab-90eb5b9fed56"
      },
      "outputs": [
        {
          "name": "stdout",
          "output_type": "stream",
          "text": [
            "Looking in indexes: https://pypi.org/simple, https://us-python.pkg.dev/colab-wheels/public/simple/\n",
            "Collecting git+https://github.com/andreinechaev/nvcc4jupyter.git\n",
            "  Cloning https://github.com/andreinechaev/nvcc4jupyter.git to /tmp/pip-req-build-moc6ygzu\n",
            "  Running command git clone --filter=blob:none --quiet https://github.com/andreinechaev/nvcc4jupyter.git /tmp/pip-req-build-moc6ygzu\n",
            "  Resolved https://github.com/andreinechaev/nvcc4jupyter.git to commit aac710a35f52bb78ab34d2e52517237941399eff\n",
            "  Preparing metadata (setup.py) ... \u001b[?25l\u001b[?25hdone\n",
            "Building wheels for collected packages: NVCCPlugin\n",
            "  Building wheel for NVCCPlugin (setup.py) ... \u001b[?25l\u001b[?25hdone\n",
            "  Created wheel for NVCCPlugin: filename=NVCCPlugin-0.0.2-py3-none-any.whl size=4305 sha256=d06389d43bbcd7f6ff7a53a5c1dcf18f6ea9defaf2d4231a6a7ac2649ae96bbc\n",
            "  Stored in directory: /tmp/pip-ephem-wheel-cache-46apjd_u/wheels/db/c1/1f/a2bb07bbb4a1ce3c43921252aeafaa6205f08637e292496f04\n",
            "Successfully built NVCCPlugin\n",
            "Installing collected packages: NVCCPlugin\n",
            "Successfully installed NVCCPlugin-0.0.2\n"
          ]
        }
      ],
      "source": [
        "!pip install git+https://github.com/andreinechaev/nvcc4jupyter.git"
      ]
    },
    {
      "cell_type": "code",
      "execution_count": 3,
      "metadata": {
        "colab": {
          "base_uri": "https://localhost:8080/"
        },
        "id": "EpRCygJ-YYhm",
        "outputId": "72628dad-017f-47cc-f142-d05297399027"
      },
      "outputs": [
        {
          "name": "stdout",
          "output_type": "stream",
          "text": [
            "created output directory at /content/src\n",
            "Out bin /content/result.out\n"
          ]
        }
      ],
      "source": [
        "%load_ext nvcc_plugin"
      ]
    },
    {
      "cell_type": "code",
      "execution_count": 8,
      "metadata": {
        "colab": {
          "base_uri": "https://localhost:8080/"
        },
        "id": "IDDBmX42YaRz",
        "outputId": "ff54399e-c0ac-4a74-b740-b32912d8dcde"
      },
      "outputs": [
        {
          "name": "stdout",
          "output_type": "stream",
          "text": [
            "Matrix A:\n",
            "0.000000 1.000000 2.000000 3.000000 4.000000 \n",
            "1.000000 2.000000 3.000000 4.000000 5.000000 \n",
            "2.000000 3.000000 4.000000 5.000000 6.000000 \n",
            "3.000000 4.000000 5.000000 6.000000 7.000000 \n",
            "4.000000 5.000000 6.000000 7.000000 8.000000 \n",
            "\n",
            "Vector B:\n",
            "0.000000 1.000000 2.000000 3.000000 4.000000 \n",
            "\n",
            "Result C:\n",
            "16.000000 20.000000 24.000000 28.000000 32.000000 \n",
            "\n"
          ]
        }
      ],
      "source": [
        "%%cu\n",
        "\n",
        "#include <stdio.h>\n",
        "#include <stdlib.h>\n",
        "#include <time.h>\n",
        "\n",
        "#define MATRIX_SIZE 10\n",
        "#define VECTOR_SIZE 10\n",
        "\n",
        "__global__ void matrix_vector_multiply(int *matrix, int *vector, int *result)\n",
        "{\n",
        "    int index = threadIdx.x + blockIdx.x * blockDim.x;\n",
        "    int row = index / VECTOR_SIZE;\n",
        "    int col = index % VECTOR_SIZE;\n",
        "\n",
        "    if (index < MATRIX_SIZE * VECTOR_SIZE) {\n",
        "        result[row] += matrix[index] * vector[col];\n",
        "    }\n",
        "}\n",
        "\n",
        "int main()\n",
        "{\n",
        "    int matrix[MATRIX_SIZE][VECTOR_SIZE];\n",
        "    int vector[VECTOR_SIZE];\n",
        "    int result[MATRIX_SIZE] = {0};\n",
        "\n",
        "    // Заполнение матрицы и вектора случайными числами\n",
        "    srand(time(NULL));\n",
        "    for (int i = 0; i < MATRIX_SIZE; i++) {\n",
        "        for (int j = 0; j < VECTOR_SIZE; j++) {\n",
        "            matrix[i][j] = rand() % 100;\n",
        "        }\n",
        "    }\n",
        "    for (int i = 0; i < VECTOR_SIZE; i++) {\n",
        "        vector[i] = rand() % 100;\n",
        "    }\n",
        "\n",
        "    // Вывод матрицы и вектора\n",
        "    printf(\"Matrix:\\n\");\n",
        "    for (int i = 0; i < MATRIX_SIZE; i++) {\n",
        "        for (int j = 0; j < VECTOR_SIZE; j++) {\n",
        "            printf(\"%d \", matrix[i][j]);\n",
        "        }\n",
        "        printf(\"\\n\");\n",
        "    }\n",
        "    printf(\"Vector:\\n\");\n",
        "    for (int i = 0; i < VECTOR_SIZE; i++) {\n",
        "        printf(\"%d \", vector[i]);\n",
        "    }\n",
        "    printf(\"\\n\");\n",
        "\n",
        "    // Копирование матрицы и вектора на девайс\n",
        "    int *d_matrix, *d_vector, *d_result;\n",
        "    cudaMalloc((void **)&d_matrix, MATRIX_SIZE * VECTOR_SIZE * sizeof(int));\n",
        "    cudaMalloc((void **)&d_vector, VECTOR_SIZE * sizeof(int));\n",
        "    cudaMalloc((void **)&d_result, MATRIX_SIZE * sizeof(int));\n",
        "    cudaMemcpy(d_matrix, matrix, MATRIX_SIZE * VECTOR_SIZE * sizeof(int), cudaMemcpyHostToDevice);\n",
        "    cudaMemcpy(d_vector, vector, VECTOR_SIZE * sizeof(int), cudaMemcpyHostToDevice);\n",
        "    cudaMemcpy(d_result, result, MATRIX_SIZE * sizeof(int), cudaMemcpyHostToDevice);\n",
        "\n",
        "    // Запуск ядра на девайсе\n",
        "    int block_size = 32;\n",
        "    int grid_size = (MATRIX_SIZE * VECTOR_SIZE + block_size - 1) / block_size;\n",
        "    matrix_vector_multiply<<<grid_size, block_size>>>(d_matrix, d_vector, d_result);\n",
        "\n",
        "    // Копирование результата обратно на хост\n",
        "    cudaMemcpy(result, d_result, MATRIX_SIZE * sizeof(int), cudaMemcpyDeviceToHost);\n",
        "\n",
        "    // Вывод результата\n",
        "    printf(\"Result:\\n\");\n",
        "    for (int i = 0; i < MATRIX_SIZE; i++) {\n",
        "        printf(\"%d \", result[i]);\n",
        "    }\n",
        "    printf(\"\\n\");\n",
        "\n",
        "    // Освобождение памяти на девайсе\n",
        "    cudaFree(d_matrix);\n",
        "    cudaFree(d_vector);\n",
        "    cudaFree(d_result);\n",
        "\n",
        "    return 0;\n",
        "}\n",
        "\n"
      ]
    }
  ],
  "metadata": {
    "accelerator": "GPU",
    "colab": {
      "provenance": []
    },
    "gpuClass": "standard",
    "kernelspec": {
      "display_name": "Python 3",
      "name": "python3"
    },
    "language_info": {
      "name": "python"
    }
  },
  "nbformat": 4,
  "nbformat_minor": 0
}
